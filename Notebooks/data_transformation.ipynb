{
 "cells": [
  {
   "cell_type": "code",
   "execution_count": 1,
   "metadata": {},
   "outputs": [],
   "source": [
    "import os"
   ]
  },
  {
   "cell_type": "code",
   "execution_count": 5,
   "metadata": {},
   "outputs": [
    {
     "data": {
      "text/plain": [
       "'c:\\\\Users\\\\pavan\\\\Desktop\\\\NLP-Text-Summarizer-Project'"
      ]
     },
     "execution_count": 5,
     "metadata": {},
     "output_type": "execute_result"
    }
   ],
   "source": [
    "%pwd"
   ]
  },
  {
   "cell_type": "code",
   "execution_count": 4,
   "metadata": {},
   "outputs": [],
   "source": [
    "os.chdir(\"../\")"
   ]
  },
  {
   "cell_type": "code",
   "execution_count": 6,
   "metadata": {},
   "outputs": [],
   "source": [
    "from dataclasses import dataclass\n",
    "from pathlib import Path\n",
    "\n",
    "\n",
    "@dataclass(frozen=True)\n",
    "class DataTransformationConfig:\n",
    "    root_dir: Path\n",
    "    data_path: Path\n",
    "    tokenizer_name: Path"
   ]
  },
  {
   "cell_type": "code",
   "execution_count": 14,
   "metadata": {},
   "outputs": [],
   "source": [
    "from nlp_text_summarizer.config import *\n",
    "from nlp_text_summarizer.constants import *\n",
    "from nlp_text_summarizer.utils.common import read_yaml, create_directories"
   ]
  },
  {
   "cell_type": "code",
   "execution_count": 15,
   "metadata": {},
   "outputs": [],
   "source": [
    "class ConfigurationManager:\n",
    "    def __init__(\n",
    "        self,\n",
    "        config_filepath = CONFIG_FILE_PATH,\n",
    "        params_filepath = PARAMS_FILE_PATH):\n",
    "\n",
    "        self.config = read_yaml(config_filepath)\n",
    "        self.params = read_yaml(params_filepath)\n",
    "\n",
    "        create_directories([self.config.artifacts_root])\n",
    "\n",
    "     \n",
    "    def get_data_transformation_config(self) -> DataTransformationConfig:\n",
    "        config = self.config.data_transformation\n",
    "\n",
    "        create_directories([config.root_dir])\n",
    "\n",
    "        data_transformation_config = DataTransformationConfig(\n",
    "            root_dir=config.root_dir,\n",
    "            data_path=config.data_path,\n",
    "            tokenizer_name = config.tokenizer_name\n",
    "        )\n",
    "\n",
    "        return data_transformation_config"
   ]
  },
  {
   "cell_type": "code",
   "execution_count": 11,
   "metadata": {},
   "outputs": [],
   "source": [
    "import os\n",
    "from nlp_text_summarizer.logging import logger\n",
    "from transformers import AutoTokenizer\n",
    "from datasets import load_dataset, load_from_disk"
   ]
  },
  {
   "cell_type": "code",
   "execution_count": 12,
   "metadata": {},
   "outputs": [],
   "source": [
    "class DataTransformation:\n",
    "    def __init__(self, config: DataTransformationConfig):\n",
    "        self.config = config\n",
    "        self.tokenizer = AutoTokenizer.from_pretrained(config.tokenizer_name)\n",
    "\n",
    "    \n",
    "    def convert_examples_to_features(self,example_batch):\n",
    "        input_encodings = self.tokenizer(example_batch['dialogue'] , max_length = 1024, truncation = True )\n",
    "        \n",
    "        with self.tokenizer.as_target_tokenizer():\n",
    "            target_encodings = self.tokenizer(example_batch['summary'], max_length = 128, truncation = True )\n",
    "            \n",
    "        return {\n",
    "            'input_ids' : input_encodings['input_ids'],\n",
    "            'attention_mask': input_encodings['attention_mask'],\n",
    "            'labels': target_encodings['input_ids']\n",
    "        }\n",
    "    \n",
    "\n",
    "    def convert(self):\n",
    "        dataset_samsum = load_from_disk(self.config.data_path)\n",
    "        dataset_samsum_pt = dataset_samsum.map(self.convert_examples_to_features, batched = True)\n",
    "        dataset_samsum_pt.save_to_disk(os.path.join(self.config.root_dir,\"samsum_dataset\"))"
   ]
  },
  {
   "cell_type": "code",
   "execution_count": 13,
   "metadata": {},
   "outputs": [
    {
     "name": "stdout",
     "output_type": "stream",
     "text": [
      "[2023-09-27 17:50:33,959: INFO: common: yaml file: config\\config.yaml loaded successfully]\n",
      "[2023-09-27 17:50:33,973: INFO: common: yaml file: params.yaml loaded successfully]\n",
      "[2023-09-27 17:50:33,973: INFO: common: created directory at: artifacts]\n"
     ]
    },
    {
     "ename": "BoxKeyError",
     "evalue": "\"'ConfigBox' object has no attribute 'data_transformation'\"",
     "output_type": "error",
     "traceback": [
      "\u001b[1;31m---------------------------------------------------------------------------\u001b[0m",
      "\u001b[1;31mKeyError\u001b[0m                                  Traceback (most recent call last)",
      "File \u001b[1;32m~\\AppData\\Local\\Packages\\PythonSoftwareFoundation.Python.3.11_qbz5n2kfra8p0\\LocalCache\\local-packages\\Python311\\site-packages\\box\\box.py:592\u001b[0m, in \u001b[0;36mbox.box.Box.__getitem__\u001b[1;34m()\u001b[0m\n",
      "\u001b[1;31mKeyError\u001b[0m: 'data_transformation'",
      "\nThe above exception was the direct cause of the following exception:\n",
      "\u001b[1;31mBoxKeyError\u001b[0m                               Traceback (most recent call last)",
      "File \u001b[1;32m~\\AppData\\Local\\Packages\\PythonSoftwareFoundation.Python.3.11_qbz5n2kfra8p0\\LocalCache\\local-packages\\Python311\\site-packages\\box\\box.py:631\u001b[0m, in \u001b[0;36mbox.box.Box.__getattr__\u001b[1;34m()\u001b[0m\n",
      "File \u001b[1;32m~\\AppData\\Local\\Packages\\PythonSoftwareFoundation.Python.3.11_qbz5n2kfra8p0\\LocalCache\\local-packages\\Python311\\site-packages\\box\\box.py:619\u001b[0m, in \u001b[0;36mbox.box.Box.__getitem__\u001b[1;34m()\u001b[0m\n",
      "\u001b[1;31mBoxKeyError\u001b[0m: \"'data_transformation'\"",
      "\nDuring handling of the above exception, another exception occurred:\n",
      "\u001b[1;31mAttributeError\u001b[0m                            Traceback (most recent call last)",
      "File \u001b[1;32m~\\AppData\\Local\\Packages\\PythonSoftwareFoundation.Python.3.11_qbz5n2kfra8p0\\LocalCache\\local-packages\\Python311\\site-packages\\box\\box.py:633\u001b[0m, in \u001b[0;36mbox.box.Box.__getattr__\u001b[1;34m()\u001b[0m\n",
      "\u001b[1;31mAttributeError\u001b[0m: 'ConfigBox' object has no attribute 'data_transformation'",
      "\nThe above exception was the direct cause of the following exception:\n",
      "\u001b[1;31mBoxKeyError\u001b[0m                               Traceback (most recent call last)",
      "File \u001b[1;32m~\\AppData\\Local\\Packages\\PythonSoftwareFoundation.Python.3.11_qbz5n2kfra8p0\\LocalCache\\local-packages\\Python311\\site-packages\\box\\config_box.py:29\u001b[0m, in \u001b[0;36mbox.config_box.ConfigBox.__getattr__\u001b[1;34m()\u001b[0m\n",
      "File \u001b[1;32m~\\AppData\\Local\\Packages\\PythonSoftwareFoundation.Python.3.11_qbz5n2kfra8p0\\LocalCache\\local-packages\\Python311\\site-packages\\box\\box.py:647\u001b[0m, in \u001b[0;36mbox.box.Box.__getattr__\u001b[1;34m()\u001b[0m\n",
      "\u001b[1;31mBoxKeyError\u001b[0m: \"'ConfigBox' object has no attribute 'data_transformation'\"",
      "\nDuring handling of the above exception, another exception occurred:\n",
      "\u001b[1;31mKeyError\u001b[0m                                  Traceback (most recent call last)",
      "File \u001b[1;32m~\\AppData\\Local\\Packages\\PythonSoftwareFoundation.Python.3.11_qbz5n2kfra8p0\\LocalCache\\local-packages\\Python311\\site-packages\\box\\box.py:592\u001b[0m, in \u001b[0;36mbox.box.Box.__getitem__\u001b[1;34m()\u001b[0m\n",
      "\u001b[1;31mKeyError\u001b[0m: 'data_transformation'",
      "\nThe above exception was the direct cause of the following exception:\n",
      "\u001b[1;31mBoxKeyError\u001b[0m                               Traceback (most recent call last)",
      "File \u001b[1;32m~\\AppData\\Local\\Packages\\PythonSoftwareFoundation.Python.3.11_qbz5n2kfra8p0\\LocalCache\\local-packages\\Python311\\site-packages\\box\\box.py:631\u001b[0m, in \u001b[0;36mbox.box.Box.__getattr__\u001b[1;34m()\u001b[0m\n",
      "File \u001b[1;32m~\\AppData\\Local\\Packages\\PythonSoftwareFoundation.Python.3.11_qbz5n2kfra8p0\\LocalCache\\local-packages\\Python311\\site-packages\\box\\box.py:619\u001b[0m, in \u001b[0;36mbox.box.Box.__getitem__\u001b[1;34m()\u001b[0m\n",
      "\u001b[1;31mBoxKeyError\u001b[0m: \"'data_transformation'\"",
      "\nDuring handling of the above exception, another exception occurred:\n",
      "\u001b[1;31mAttributeError\u001b[0m                            Traceback (most recent call last)",
      "File \u001b[1;32m~\\AppData\\Local\\Packages\\PythonSoftwareFoundation.Python.3.11_qbz5n2kfra8p0\\LocalCache\\local-packages\\Python311\\site-packages\\box\\box.py:633\u001b[0m, in \u001b[0;36mbox.box.Box.__getattr__\u001b[1;34m()\u001b[0m\n",
      "\u001b[1;31mAttributeError\u001b[0m: 'ConfigBox' object has no attribute 'data_transformation'",
      "\nThe above exception was the direct cause of the following exception:\n",
      "\u001b[1;31mBoxKeyError\u001b[0m                               Traceback (most recent call last)",
      "\u001b[1;32mc:\\Users\\pavan\\Desktop\\NLP-Text-Summarizer-Project\\Notebooks\\data_transformation.ipynb Cell 9\u001b[0m line \u001b[0;36m7\n\u001b[0;32m      <a href='vscode-notebook-cell:/c%3A/Users/pavan/Desktop/NLP-Text-Summarizer-Project/Notebooks/data_transformation.ipynb#W3sZmlsZQ%3D%3D?line=4'>5</a>\u001b[0m     data_transformation\u001b[39m.\u001b[39mconvert()\n\u001b[0;32m      <a href='vscode-notebook-cell:/c%3A/Users/pavan/Desktop/NLP-Text-Summarizer-Project/Notebooks/data_transformation.ipynb#W3sZmlsZQ%3D%3D?line=5'>6</a>\u001b[0m \u001b[39mexcept\u001b[39;00m \u001b[39mException\u001b[39;00m \u001b[39mas\u001b[39;00m e:\n\u001b[1;32m----> <a href='vscode-notebook-cell:/c%3A/Users/pavan/Desktop/NLP-Text-Summarizer-Project/Notebooks/data_transformation.ipynb#W3sZmlsZQ%3D%3D?line=6'>7</a>\u001b[0m     \u001b[39mraise\u001b[39;00m e\n",
      "\u001b[1;32mc:\\Users\\pavan\\Desktop\\NLP-Text-Summarizer-Project\\Notebooks\\data_transformation.ipynb Cell 9\u001b[0m line \u001b[0;36m3\n\u001b[0;32m      <a href='vscode-notebook-cell:/c%3A/Users/pavan/Desktop/NLP-Text-Summarizer-Project/Notebooks/data_transformation.ipynb#W3sZmlsZQ%3D%3D?line=0'>1</a>\u001b[0m \u001b[39mtry\u001b[39;00m:\n\u001b[0;32m      <a href='vscode-notebook-cell:/c%3A/Users/pavan/Desktop/NLP-Text-Summarizer-Project/Notebooks/data_transformation.ipynb#W3sZmlsZQ%3D%3D?line=1'>2</a>\u001b[0m     config \u001b[39m=\u001b[39m ConfigurationManager()\n\u001b[1;32m----> <a href='vscode-notebook-cell:/c%3A/Users/pavan/Desktop/NLP-Text-Summarizer-Project/Notebooks/data_transformation.ipynb#W3sZmlsZQ%3D%3D?line=2'>3</a>\u001b[0m     data_transformation_config \u001b[39m=\u001b[39m config\u001b[39m.\u001b[39;49mget_data_transformation_config()\n\u001b[0;32m      <a href='vscode-notebook-cell:/c%3A/Users/pavan/Desktop/NLP-Text-Summarizer-Project/Notebooks/data_transformation.ipynb#W3sZmlsZQ%3D%3D?line=3'>4</a>\u001b[0m     data_transformation \u001b[39m=\u001b[39m DataTransformation(config\u001b[39m=\u001b[39mdata_transformation_config)\n\u001b[0;32m      <a href='vscode-notebook-cell:/c%3A/Users/pavan/Desktop/NLP-Text-Summarizer-Project/Notebooks/data_transformation.ipynb#W3sZmlsZQ%3D%3D?line=4'>5</a>\u001b[0m     data_transformation\u001b[39m.\u001b[39mconvert()\n",
      "\u001b[1;32mc:\\Users\\pavan\\Desktop\\NLP-Text-Summarizer-Project\\Notebooks\\data_transformation.ipynb Cell 9\u001b[0m line \u001b[0;36m1\n\u001b[0;32m     <a href='vscode-notebook-cell:/c%3A/Users/pavan/Desktop/NLP-Text-Summarizer-Project/Notebooks/data_transformation.ipynb#W3sZmlsZQ%3D%3D?line=12'>13</a>\u001b[0m \u001b[39mdef\u001b[39;00m \u001b[39mget_data_transformation_config\u001b[39m(\u001b[39mself\u001b[39m) \u001b[39m-\u001b[39m\u001b[39m>\u001b[39m DataTransformationConfig:\n\u001b[1;32m---> <a href='vscode-notebook-cell:/c%3A/Users/pavan/Desktop/NLP-Text-Summarizer-Project/Notebooks/data_transformation.ipynb#W3sZmlsZQ%3D%3D?line=13'>14</a>\u001b[0m     config \u001b[39m=\u001b[39m \u001b[39mself\u001b[39;49m\u001b[39m.\u001b[39;49mconfig\u001b[39m.\u001b[39;49mdata_transformation\n\u001b[0;32m     <a href='vscode-notebook-cell:/c%3A/Users/pavan/Desktop/NLP-Text-Summarizer-Project/Notebooks/data_transformation.ipynb#W3sZmlsZQ%3D%3D?line=15'>16</a>\u001b[0m     create_directories([config\u001b[39m.\u001b[39mroot_dir])\n\u001b[0;32m     <a href='vscode-notebook-cell:/c%3A/Users/pavan/Desktop/NLP-Text-Summarizer-Project/Notebooks/data_transformation.ipynb#W3sZmlsZQ%3D%3D?line=17'>18</a>\u001b[0m     data_transformation_config \u001b[39m=\u001b[39m DataTransformationConfig(\n\u001b[0;32m     <a href='vscode-notebook-cell:/c%3A/Users/pavan/Desktop/NLP-Text-Summarizer-Project/Notebooks/data_transformation.ipynb#W3sZmlsZQ%3D%3D?line=18'>19</a>\u001b[0m         root_dir\u001b[39m=\u001b[39mconfig\u001b[39m.\u001b[39mroot_dir,\n\u001b[0;32m     <a href='vscode-notebook-cell:/c%3A/Users/pavan/Desktop/NLP-Text-Summarizer-Project/Notebooks/data_transformation.ipynb#W3sZmlsZQ%3D%3D?line=19'>20</a>\u001b[0m         data_path\u001b[39m=\u001b[39mconfig\u001b[39m.\u001b[39mdata_path,\n\u001b[0;32m     <a href='vscode-notebook-cell:/c%3A/Users/pavan/Desktop/NLP-Text-Summarizer-Project/Notebooks/data_transformation.ipynb#W3sZmlsZQ%3D%3D?line=20'>21</a>\u001b[0m         tokenizer_name \u001b[39m=\u001b[39m config\u001b[39m.\u001b[39mtokenizer_name\n\u001b[0;32m     <a href='vscode-notebook-cell:/c%3A/Users/pavan/Desktop/NLP-Text-Summarizer-Project/Notebooks/data_transformation.ipynb#W3sZmlsZQ%3D%3D?line=21'>22</a>\u001b[0m     )\n",
      "File \u001b[1;32m~\\AppData\\Local\\Packages\\PythonSoftwareFoundation.Python.3.11_qbz5n2kfra8p0\\LocalCache\\local-packages\\Python311\\site-packages\\box\\config_box.py:31\u001b[0m, in \u001b[0;36mbox.config_box.ConfigBox.__getattr__\u001b[1;34m()\u001b[0m\n",
      "File \u001b[1;32m~\\AppData\\Local\\Packages\\PythonSoftwareFoundation.Python.3.11_qbz5n2kfra8p0\\LocalCache\\local-packages\\Python311\\site-packages\\box\\box.py:647\u001b[0m, in \u001b[0;36mbox.box.Box.__getattr__\u001b[1;34m()\u001b[0m\n",
      "\u001b[1;31mBoxKeyError\u001b[0m: \"'ConfigBox' object has no attribute 'data_transformation'\""
     ]
    }
   ],
   "source": [
    "try:\n",
    "    config = ConfigurationManager()\n",
    "    data_transformation_config = config.get_data_transformation_config()\n",
    "    data_transformation = DataTransformation(config=data_transformation_config)\n",
    "    data_transformation.convert()\n",
    "except Exception as e:\n",
    "    raise e"
   ]
  },
  {
   "cell_type": "code",
   "execution_count": null,
   "metadata": {},
   "outputs": [],
   "source": []
  },
  {
   "cell_type": "code",
   "execution_count": null,
   "metadata": {},
   "outputs": [],
   "source": []
  }
 ],
 "metadata": {
  "kernelspec": {
   "display_name": "Python 3",
   "language": "python",
   "name": "python3"
  },
  "language_info": {
   "codemirror_mode": {
    "name": "ipython",
    "version": 3
   },
   "file_extension": ".py",
   "mimetype": "text/x-python",
   "name": "python",
   "nbconvert_exporter": "python",
   "pygments_lexer": "ipython3",
   "version": "3.11.3"
  },
  "orig_nbformat": 4
 },
 "nbformat": 4,
 "nbformat_minor": 2
}
